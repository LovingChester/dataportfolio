{
  "cells": [
    {
      "cell_type": "markdown",
      "metadata": {
        "colab_type": "text",
        "id": "view-in-github"
      },
      "source": [
        "<a href=\"https://colab.research.google.com/github/LovingChester/mlportfolio/blob/main/Airline_delay_prediction.ipynb\" target=\"_parent\"><img src=\"https://colab.research.google.com/assets/colab-badge.svg\" alt=\"Open In Colab\"/></a>"
      ]
    },
    {
      "cell_type": "markdown",
      "metadata": {
        "id": "_JZwD-kC7UNc"
      },
      "source": [
        "#### Airline delay prediction \n",
        "This notebook will build models to predict the delay of flights. The dataset comes from https://www.kaggle.com/datasets/jimschacko/airlines-dataset-to-predict-a-delay"
      ]
    },
    {
      "cell_type": "markdown",
      "metadata": {
        "id": "v3CJCQwbc7YR"
      },
      "source": [
        "#### Import needed libraries"
      ]
    },
    {
      "cell_type": "code",
      "execution_count": 1,
      "metadata": {
        "id": "dTz6P9207TsA"
      },
      "outputs": [],
      "source": [
        "import torch\n",
        "import torch.nn as nn\n",
        "import torch.nn.functional as F\n",
        "import torch.optim as optim\n",
        "import torch.utils.data as du\n",
        "from torchvision import datasets, transforms\n",
        "import matplotlib.pyplot as plt\n",
        "import os\n",
        "import pandas as pd\n",
        "import numpy as np\n",
        "from tqdm import tqdm\n",
        "import seaborn as sns\n",
        "import scipy.stats as st"
      ]
    },
    {
      "cell_type": "markdown",
      "metadata": {
        "id": "nYoZw3u2iRQo"
      },
      "source": [
        "#### Read data and EDA"
      ]
    },
    {
      "cell_type": "code",
      "execution_count": 2,
      "metadata": {
        "colab": {
          "base_uri": "https://localhost:8080/",
          "height": 363
        },
        "id": "4TlA8nutc6G9",
        "outputId": "66e71eb6-2333-4281-fcaf-67786107227f"
      },
      "outputs": [
        {
          "data": {
            "text/html": [
              "<div>\n",
              "<style scoped>\n",
              "    .dataframe tbody tr th:only-of-type {\n",
              "        vertical-align: middle;\n",
              "    }\n",
              "\n",
              "    .dataframe tbody tr th {\n",
              "        vertical-align: top;\n",
              "    }\n",
              "\n",
              "    .dataframe thead th {\n",
              "        text-align: right;\n",
              "    }\n",
              "</style>\n",
              "<table border=\"1\" class=\"dataframe\">\n",
              "  <thead>\n",
              "    <tr style=\"text-align: right;\">\n",
              "      <th></th>\n",
              "      <th>id</th>\n",
              "      <th>Airline</th>\n",
              "      <th>Flight</th>\n",
              "      <th>AirportFrom</th>\n",
              "      <th>AirportTo</th>\n",
              "      <th>DayOfWeek</th>\n",
              "      <th>Time</th>\n",
              "      <th>Length</th>\n",
              "      <th>Delay</th>\n",
              "    </tr>\n",
              "  </thead>\n",
              "  <tbody>\n",
              "    <tr>\n",
              "      <th>0</th>\n",
              "      <td>1</td>\n",
              "      <td>CO</td>\n",
              "      <td>269</td>\n",
              "      <td>SFO</td>\n",
              "      <td>IAH</td>\n",
              "      <td>3</td>\n",
              "      <td>15</td>\n",
              "      <td>205</td>\n",
              "      <td>1</td>\n",
              "    </tr>\n",
              "    <tr>\n",
              "      <th>1</th>\n",
              "      <td>2</td>\n",
              "      <td>US</td>\n",
              "      <td>1558</td>\n",
              "      <td>PHX</td>\n",
              "      <td>CLT</td>\n",
              "      <td>3</td>\n",
              "      <td>15</td>\n",
              "      <td>222</td>\n",
              "      <td>1</td>\n",
              "    </tr>\n",
              "    <tr>\n",
              "      <th>2</th>\n",
              "      <td>3</td>\n",
              "      <td>AA</td>\n",
              "      <td>2400</td>\n",
              "      <td>LAX</td>\n",
              "      <td>DFW</td>\n",
              "      <td>3</td>\n",
              "      <td>20</td>\n",
              "      <td>165</td>\n",
              "      <td>1</td>\n",
              "    </tr>\n",
              "    <tr>\n",
              "      <th>3</th>\n",
              "      <td>4</td>\n",
              "      <td>AA</td>\n",
              "      <td>2466</td>\n",
              "      <td>SFO</td>\n",
              "      <td>DFW</td>\n",
              "      <td>3</td>\n",
              "      <td>20</td>\n",
              "      <td>195</td>\n",
              "      <td>1</td>\n",
              "    </tr>\n",
              "    <tr>\n",
              "      <th>4</th>\n",
              "      <td>5</td>\n",
              "      <td>AS</td>\n",
              "      <td>108</td>\n",
              "      <td>ANC</td>\n",
              "      <td>SEA</td>\n",
              "      <td>3</td>\n",
              "      <td>30</td>\n",
              "      <td>202</td>\n",
              "      <td>0</td>\n",
              "    </tr>\n",
              "    <tr>\n",
              "      <th>5</th>\n",
              "      <td>6</td>\n",
              "      <td>CO</td>\n",
              "      <td>1094</td>\n",
              "      <td>LAX</td>\n",
              "      <td>IAH</td>\n",
              "      <td>3</td>\n",
              "      <td>30</td>\n",
              "      <td>181</td>\n",
              "      <td>1</td>\n",
              "    </tr>\n",
              "    <tr>\n",
              "      <th>6</th>\n",
              "      <td>7</td>\n",
              "      <td>DL</td>\n",
              "      <td>1768</td>\n",
              "      <td>LAX</td>\n",
              "      <td>MSP</td>\n",
              "      <td>3</td>\n",
              "      <td>30</td>\n",
              "      <td>220</td>\n",
              "      <td>0</td>\n",
              "    </tr>\n",
              "    <tr>\n",
              "      <th>7</th>\n",
              "      <td>8</td>\n",
              "      <td>DL</td>\n",
              "      <td>2722</td>\n",
              "      <td>PHX</td>\n",
              "      <td>DTW</td>\n",
              "      <td>3</td>\n",
              "      <td>30</td>\n",
              "      <td>228</td>\n",
              "      <td>0</td>\n",
              "    </tr>\n",
              "    <tr>\n",
              "      <th>8</th>\n",
              "      <td>9</td>\n",
              "      <td>DL</td>\n",
              "      <td>2606</td>\n",
              "      <td>SFO</td>\n",
              "      <td>MSP</td>\n",
              "      <td>3</td>\n",
              "      <td>35</td>\n",
              "      <td>216</td>\n",
              "      <td>1</td>\n",
              "    </tr>\n",
              "    <tr>\n",
              "      <th>9</th>\n",
              "      <td>10</td>\n",
              "      <td>AA</td>\n",
              "      <td>2538</td>\n",
              "      <td>LAS</td>\n",
              "      <td>ORD</td>\n",
              "      <td>3</td>\n",
              "      <td>40</td>\n",
              "      <td>200</td>\n",
              "      <td>1</td>\n",
              "    </tr>\n",
              "  </tbody>\n",
              "</table>\n",
              "</div>"
            ],
            "text/plain": [
              "   id Airline  Flight AirportFrom AirportTo  DayOfWeek  Time  Length  Delay\n",
              "0   1      CO     269         SFO       IAH          3    15     205      1\n",
              "1   2      US    1558         PHX       CLT          3    15     222      1\n",
              "2   3      AA    2400         LAX       DFW          3    20     165      1\n",
              "3   4      AA    2466         SFO       DFW          3    20     195      1\n",
              "4   5      AS     108         ANC       SEA          3    30     202      0\n",
              "5   6      CO    1094         LAX       IAH          3    30     181      1\n",
              "6   7      DL    1768         LAX       MSP          3    30     220      0\n",
              "7   8      DL    2722         PHX       DTW          3    30     228      0\n",
              "8   9      DL    2606         SFO       MSP          3    35     216      1\n",
              "9  10      AA    2538         LAS       ORD          3    40     200      1"
            ]
          },
          "execution_count": 2,
          "metadata": {},
          "output_type": "execute_result"
        }
      ],
      "source": [
        "airline_df = pd.read_csv('Airlines.csv')\n",
        "airline_df.head(10)"
      ]
    },
    {
      "cell_type": "code",
      "execution_count": 3,
      "metadata": {
        "colab": {
          "base_uri": "https://localhost:8080/",
          "height": 300
        },
        "id": "yu0wxMCSiP08",
        "outputId": "d4fcc17e-3b1d-4bcc-fe76-4cf26d150103"
      },
      "outputs": [
        {
          "data": {
            "text/html": [
              "<div>\n",
              "<style scoped>\n",
              "    .dataframe tbody tr th:only-of-type {\n",
              "        vertical-align: middle;\n",
              "    }\n",
              "\n",
              "    .dataframe tbody tr th {\n",
              "        vertical-align: top;\n",
              "    }\n",
              "\n",
              "    .dataframe thead th {\n",
              "        text-align: right;\n",
              "    }\n",
              "</style>\n",
              "<table border=\"1\" class=\"dataframe\">\n",
              "  <thead>\n",
              "    <tr style=\"text-align: right;\">\n",
              "      <th></th>\n",
              "      <th>id</th>\n",
              "      <th>Flight</th>\n",
              "      <th>DayOfWeek</th>\n",
              "      <th>Time</th>\n",
              "      <th>Length</th>\n",
              "      <th>Delay</th>\n",
              "    </tr>\n",
              "  </thead>\n",
              "  <tbody>\n",
              "    <tr>\n",
              "      <th>count</th>\n",
              "      <td>539383.00000</td>\n",
              "      <td>539383.000000</td>\n",
              "      <td>539383.000000</td>\n",
              "      <td>539383.000000</td>\n",
              "      <td>539383.000000</td>\n",
              "      <td>539383.000000</td>\n",
              "    </tr>\n",
              "    <tr>\n",
              "      <th>mean</th>\n",
              "      <td>269692.00000</td>\n",
              "      <td>2427.928630</td>\n",
              "      <td>3.929668</td>\n",
              "      <td>802.728963</td>\n",
              "      <td>132.202007</td>\n",
              "      <td>0.445442</td>\n",
              "    </tr>\n",
              "    <tr>\n",
              "      <th>std</th>\n",
              "      <td>155706.60446</td>\n",
              "      <td>2067.429837</td>\n",
              "      <td>1.914664</td>\n",
              "      <td>278.045911</td>\n",
              "      <td>70.117016</td>\n",
              "      <td>0.497015</td>\n",
              "    </tr>\n",
              "    <tr>\n",
              "      <th>min</th>\n",
              "      <td>1.00000</td>\n",
              "      <td>1.000000</td>\n",
              "      <td>1.000000</td>\n",
              "      <td>10.000000</td>\n",
              "      <td>0.000000</td>\n",
              "      <td>0.000000</td>\n",
              "    </tr>\n",
              "    <tr>\n",
              "      <th>25%</th>\n",
              "      <td>134846.50000</td>\n",
              "      <td>712.000000</td>\n",
              "      <td>2.000000</td>\n",
              "      <td>565.000000</td>\n",
              "      <td>81.000000</td>\n",
              "      <td>0.000000</td>\n",
              "    </tr>\n",
              "    <tr>\n",
              "      <th>50%</th>\n",
              "      <td>269692.00000</td>\n",
              "      <td>1809.000000</td>\n",
              "      <td>4.000000</td>\n",
              "      <td>795.000000</td>\n",
              "      <td>115.000000</td>\n",
              "      <td>0.000000</td>\n",
              "    </tr>\n",
              "    <tr>\n",
              "      <th>75%</th>\n",
              "      <td>404537.50000</td>\n",
              "      <td>3745.000000</td>\n",
              "      <td>5.000000</td>\n",
              "      <td>1035.000000</td>\n",
              "      <td>162.000000</td>\n",
              "      <td>1.000000</td>\n",
              "    </tr>\n",
              "    <tr>\n",
              "      <th>max</th>\n",
              "      <td>539383.00000</td>\n",
              "      <td>7814.000000</td>\n",
              "      <td>7.000000</td>\n",
              "      <td>1439.000000</td>\n",
              "      <td>655.000000</td>\n",
              "      <td>1.000000</td>\n",
              "    </tr>\n",
              "  </tbody>\n",
              "</table>\n",
              "</div>"
            ],
            "text/plain": [
              "                 id         Flight      DayOfWeek           Time  \\\n",
              "count  539383.00000  539383.000000  539383.000000  539383.000000   \n",
              "mean   269692.00000    2427.928630       3.929668     802.728963   \n",
              "std    155706.60446    2067.429837       1.914664     278.045911   \n",
              "min         1.00000       1.000000       1.000000      10.000000   \n",
              "25%    134846.50000     712.000000       2.000000     565.000000   \n",
              "50%    269692.00000    1809.000000       4.000000     795.000000   \n",
              "75%    404537.50000    3745.000000       5.000000    1035.000000   \n",
              "max    539383.00000    7814.000000       7.000000    1439.000000   \n",
              "\n",
              "              Length          Delay  \n",
              "count  539383.000000  539383.000000  \n",
              "mean      132.202007       0.445442  \n",
              "std        70.117016       0.497015  \n",
              "min         0.000000       0.000000  \n",
              "25%        81.000000       0.000000  \n",
              "50%       115.000000       0.000000  \n",
              "75%       162.000000       1.000000  \n",
              "max       655.000000       1.000000  "
            ]
          },
          "execution_count": 3,
          "metadata": {},
          "output_type": "execute_result"
        }
      ],
      "source": [
        "airline_df.describe()"
      ]
    },
    {
      "cell_type": "code",
      "execution_count": 4,
      "metadata": {
        "colab": {
          "base_uri": "https://localhost:8080/"
        },
        "id": "qg6drV7sjSoE",
        "outputId": "6efede4b-87c8-454b-d644-e498cb00d3d7"
      },
      "outputs": [
        {
          "data": {
            "text/plain": [
              "id             0\n",
              "Airline        0\n",
              "Flight         0\n",
              "AirportFrom    0\n",
              "AirportTo      0\n",
              "DayOfWeek      0\n",
              "Time           0\n",
              "Length         0\n",
              "Delay          0\n",
              "dtype: int64"
            ]
          },
          "execution_count": 4,
          "metadata": {},
          "output_type": "execute_result"
        }
      ],
      "source": [
        "airline_df.isnull().sum()"
      ]
    },
    {
      "cell_type": "markdown",
      "metadata": {
        "id": "d-zgv8SauDal"
      },
      "source": [
        "Drop not needed columns"
      ]
    },
    {
      "cell_type": "code",
      "execution_count": 5,
      "metadata": {
        "colab": {
          "base_uri": "https://localhost:8080/",
          "height": 363
        },
        "id": "iIvNzcwptx6a",
        "outputId": "262de163-84cc-4042-9545-60441707e81e"
      },
      "outputs": [
        {
          "data": {
            "text/html": [
              "<div>\n",
              "<style scoped>\n",
              "    .dataframe tbody tr th:only-of-type {\n",
              "        vertical-align: middle;\n",
              "    }\n",
              "\n",
              "    .dataframe tbody tr th {\n",
              "        vertical-align: top;\n",
              "    }\n",
              "\n",
              "    .dataframe thead th {\n",
              "        text-align: right;\n",
              "    }\n",
              "</style>\n",
              "<table border=\"1\" class=\"dataframe\">\n",
              "  <thead>\n",
              "    <tr style=\"text-align: right;\">\n",
              "      <th></th>\n",
              "      <th>Airline</th>\n",
              "      <th>Flight</th>\n",
              "      <th>AirportFrom</th>\n",
              "      <th>AirportTo</th>\n",
              "      <th>DayOfWeek</th>\n",
              "      <th>Time</th>\n",
              "      <th>Length</th>\n",
              "      <th>Delay</th>\n",
              "    </tr>\n",
              "  </thead>\n",
              "  <tbody>\n",
              "    <tr>\n",
              "      <th>0</th>\n",
              "      <td>CO</td>\n",
              "      <td>269</td>\n",
              "      <td>SFO</td>\n",
              "      <td>IAH</td>\n",
              "      <td>3</td>\n",
              "      <td>15</td>\n",
              "      <td>205</td>\n",
              "      <td>1</td>\n",
              "    </tr>\n",
              "    <tr>\n",
              "      <th>1</th>\n",
              "      <td>US</td>\n",
              "      <td>1558</td>\n",
              "      <td>PHX</td>\n",
              "      <td>CLT</td>\n",
              "      <td>3</td>\n",
              "      <td>15</td>\n",
              "      <td>222</td>\n",
              "      <td>1</td>\n",
              "    </tr>\n",
              "    <tr>\n",
              "      <th>2</th>\n",
              "      <td>AA</td>\n",
              "      <td>2400</td>\n",
              "      <td>LAX</td>\n",
              "      <td>DFW</td>\n",
              "      <td>3</td>\n",
              "      <td>20</td>\n",
              "      <td>165</td>\n",
              "      <td>1</td>\n",
              "    </tr>\n",
              "    <tr>\n",
              "      <th>3</th>\n",
              "      <td>AA</td>\n",
              "      <td>2466</td>\n",
              "      <td>SFO</td>\n",
              "      <td>DFW</td>\n",
              "      <td>3</td>\n",
              "      <td>20</td>\n",
              "      <td>195</td>\n",
              "      <td>1</td>\n",
              "    </tr>\n",
              "    <tr>\n",
              "      <th>4</th>\n",
              "      <td>AS</td>\n",
              "      <td>108</td>\n",
              "      <td>ANC</td>\n",
              "      <td>SEA</td>\n",
              "      <td>3</td>\n",
              "      <td>30</td>\n",
              "      <td>202</td>\n",
              "      <td>0</td>\n",
              "    </tr>\n",
              "    <tr>\n",
              "      <th>5</th>\n",
              "      <td>CO</td>\n",
              "      <td>1094</td>\n",
              "      <td>LAX</td>\n",
              "      <td>IAH</td>\n",
              "      <td>3</td>\n",
              "      <td>30</td>\n",
              "      <td>181</td>\n",
              "      <td>1</td>\n",
              "    </tr>\n",
              "    <tr>\n",
              "      <th>6</th>\n",
              "      <td>DL</td>\n",
              "      <td>1768</td>\n",
              "      <td>LAX</td>\n",
              "      <td>MSP</td>\n",
              "      <td>3</td>\n",
              "      <td>30</td>\n",
              "      <td>220</td>\n",
              "      <td>0</td>\n",
              "    </tr>\n",
              "    <tr>\n",
              "      <th>7</th>\n",
              "      <td>DL</td>\n",
              "      <td>2722</td>\n",
              "      <td>PHX</td>\n",
              "      <td>DTW</td>\n",
              "      <td>3</td>\n",
              "      <td>30</td>\n",
              "      <td>228</td>\n",
              "      <td>0</td>\n",
              "    </tr>\n",
              "    <tr>\n",
              "      <th>8</th>\n",
              "      <td>DL</td>\n",
              "      <td>2606</td>\n",
              "      <td>SFO</td>\n",
              "      <td>MSP</td>\n",
              "      <td>3</td>\n",
              "      <td>35</td>\n",
              "      <td>216</td>\n",
              "      <td>1</td>\n",
              "    </tr>\n",
              "    <tr>\n",
              "      <th>9</th>\n",
              "      <td>AA</td>\n",
              "      <td>2538</td>\n",
              "      <td>LAS</td>\n",
              "      <td>ORD</td>\n",
              "      <td>3</td>\n",
              "      <td>40</td>\n",
              "      <td>200</td>\n",
              "      <td>1</td>\n",
              "    </tr>\n",
              "  </tbody>\n",
              "</table>\n",
              "</div>"
            ],
            "text/plain": [
              "  Airline  Flight AirportFrom AirportTo  DayOfWeek  Time  Length  Delay\n",
              "0      CO     269         SFO       IAH          3    15     205      1\n",
              "1      US    1558         PHX       CLT          3    15     222      1\n",
              "2      AA    2400         LAX       DFW          3    20     165      1\n",
              "3      AA    2466         SFO       DFW          3    20     195      1\n",
              "4      AS     108         ANC       SEA          3    30     202      0\n",
              "5      CO    1094         LAX       IAH          3    30     181      1\n",
              "6      DL    1768         LAX       MSP          3    30     220      0\n",
              "7      DL    2722         PHX       DTW          3    30     228      0\n",
              "8      DL    2606         SFO       MSP          3    35     216      1\n",
              "9      AA    2538         LAS       ORD          3    40     200      1"
            ]
          },
          "execution_count": 5,
          "metadata": {},
          "output_type": "execute_result"
        }
      ],
      "source": [
        "airline_df = airline_df.drop(['id'], axis=1)\n",
        "airline_df.head(10)"
      ]
    },
    {
      "cell_type": "markdown",
      "metadata": {
        "id": "s6jj1dP8uvV7"
      },
      "source": [
        "#### Data Visualization"
      ]
    },
    {
      "cell_type": "code",
      "execution_count": 6,
      "metadata": {
        "colab": {
          "base_uri": "https://localhost:8080/",
          "height": 350
        },
        "id": "Gkxk1Thuu2aB",
        "outputId": "dd4b5e0a-bfd5-48ed-c5d1-4e73b66c2894"
      },
      "outputs": [
        {
          "data": {
            "image/png": "[encoded data removed]",
            "text/plain": [
              "<Figure size 1000x500 with 1 Axes>"
            ]
          },
          "metadata": {},
          "output_type": "display_data"
        }
      ],
      "source": [
        "plt.figure(figsize=(10, 5))\n",
        "plt.title('Number of delay and on time fight for each airline')\n",
        "sns.histplot(x='Airline', hue='Delay', data=airline_df)\n",
        "plt.show()"
      ]
    },
    {
      "cell_type": "code",
      "execution_count": 7,
      "metadata": {
        "colab": {
          "base_uri": "https://localhost:8080/",
          "height": 614
        },
        "id": "GMv-ShBDKqT9",
        "outputId": "c931022e-4994-4747-8473-f927cfeb6de9"
      },
      "outputs": [
        {
          "data": {
            "image/png": "[encoded data removed]",
            "text/plain": [
              "<Figure size 1000x500 with 1 Axes>"
            ]
          },
          "metadata": {},
          "output_type": "display_data"
        },
        {
          "data": {
            "image/png": "[encoded data removed]",
            "text/plain": [
              "<Figure size 640x480 with 1 Axes>"
            ]
          },
          "metadata": {},
          "output_type": "display_data"
        }
      ],
      "source": [
        "plt.figure(figsize=(10, 5))\n",
        "from_df = pd.DataFrame(airline_df['AirportFrom'].value_counts()).head(15).reset_index()\n",
        "from_df.rename(columns={\"index\": \"AirportFrom\", \"AirportFrom\": \"FromCount\"}, inplace=True)\n",
        "airline_from = from_df.merge(airline_df)\n",
        "plt.title('Airports with top 15 number of Outgoing flights')\n",
        "sns.histplot(x='AirportFrom', hue='Delay', data=airline_from)\n",
        "plt.show()\n",
        "\n",
        "plt.title('Outgoing flights from large to small')\n",
        "plt.plot(airline_df['AirportFrom'].value_counts().values)\n",
        "plt.show()"
      ]
    },
    {
      "cell_type": "code",
      "execution_count": 8,
      "metadata": {
        "colab": {
          "base_uri": "https://localhost:8080/",
          "height": 614
        },
        "id": "gmWPzrByE20g",
        "outputId": "d768ff09-ac8d-4c8d-ef65-bc4ed9d9e51e"
      },
      "outputs": [
        {
          "data": {
            "image/png": "[encoded data removed]",
            "text/plain": [
              "<Figure size 1000x500 with 1 Axes>"
            ]
          },
          "metadata": {},
          "output_type": "display_data"
        },
        {
          "data": {
            "image/png": "[encoded data removed]",
            "text/plain": [
              "<Figure size 640x480 with 1 Axes>"
            ]
          },
          "metadata": {},
          "output_type": "display_data"
        }
      ],
      "source": [
        "plt.figure(figsize=(10, 5))\n",
        "to_df = pd.DataFrame(airline_df['AirportTo'].value_counts()).head(15).reset_index()\n",
        "to_df.rename(columns={\"index\": \"AirportTo\", \"AirportTo\": \"ToCount\"}, inplace=True)\n",
        "airline_to = to_df.merge(airline_df)\n",
        "plt.title('Airports with top 15 number of incoming flights')\n",
        "sns.histplot(x='AirportTo', hue='Delay', data=airline_to)\n",
        "plt.show()\n",
        "\n",
        "plt.title('Incoming flights from large to small')\n",
        "plt.plot(airline_df['AirportTo'].value_counts().values)\n",
        "plt.show()"
      ]
    },
    {
      "cell_type": "code",
      "execution_count": 9,
      "metadata": {
        "colab": {
          "base_uri": "https://localhost:8080/",
          "height": 350
        },
        "id": "59lAvVQwNr6P",
        "outputId": "f60a4cb4-6c44-4047-de6d-5b97dbfa5a30"
      },
      "outputs": [
        {
          "data": {
            "image/png": "[encoded data removed]",
            "text/plain": [
              "<Figure size 1000x500 with 1 Axes>"
            ]
          },
          "metadata": {},
          "output_type": "display_data"
        }
      ],
      "source": [
        "plt.figure(figsize=(10, 5))\n",
        "plt.title('Number of delay and on time fight for each day')\n",
        "sns.histplot(x='DayOfWeek', hue='Delay', data=airline_df)\n",
        "plt.show()"
      ]
    },
    {
      "cell_type": "code",
      "execution_count": 10,
      "metadata": {
        "colab": {
          "base_uri": "https://localhost:8080/",
          "height": 350
        },
        "id": "eObs6aGBWziZ",
        "outputId": "4fdac0d7-3408-41f1-c491-15283e700631"
      },
      "outputs": [
        {
          "data": {
            "image/png": "[encoded data removed]",
            "text/plain": [
              "<Figure size 1000x500 with 1 Axes>"
            ]
          },
          "metadata": {},
          "output_type": "display_data"
        }
      ],
      "source": [
        "plt.figure(figsize=(10, 5))\n",
        "plt.title('Flight length distribution')\n",
        "sns.histplot(x='Length', data=airline_df, bins=20)\n",
        "plt.show()"
      ]
    },
    {
      "cell_type": "code",
      "execution_count": 11,
      "metadata": {
        "colab": {
          "base_uri": "https://localhost:8080/",
          "height": 295
        },
        "id": "IhpjeGhPLVcE",
        "outputId": "6b3a1f68-b15b-4894-8b19-bea8894a6d22"
      },
      "outputs": [
        {
          "data": {
            "image/png": "[encoded data removed]",
            "text/plain": [
              "<Figure size 640x480 with 1 Axes>"
            ]
          },
          "metadata": {},
          "output_type": "display_data"
        }
      ],
      "source": [
        "plt.title('Class balance')\n",
        "sns.histplot(x='Delay', data=airline_df)\n",
        "plt.show()"
      ]
    },
    {
      "cell_type": "markdown",
      "metadata": {
        "id": "1cc8lRM2OYSc"
      },
      "source": [
        "Correlation heatmap"
      ]
    },
    {
      "cell_type": "code",
      "execution_count": 12,
      "metadata": {
        "colab": {
          "base_uri": "https://localhost:8080/",
          "height": 269
        },
        "id": "99arrcwoOlaL",
        "outputId": "5104b9ea-8136-4111-f3f2-610158d27bb6"
      },
      "outputs": [
        {
          "name": "stderr",
          "output_type": "stream",
          "text": [
            "C:\\Users\\Houhua\\AppData\\Local\\Temp\\ipykernel_125168\\952412989.py:1: FutureWarning: The default value of numeric_only in DataFrame.corr is deprecated. In a future version, it will default to False. Select only valid columns or specify the value of numeric_only to silence this warning.\n",
            "  sns.heatmap(airline_df.corr())\n"
          ]
        },
        {
          "data": {
            "image/png": "[encoded data removed]",
            "text/plain": [
              "<Figure size 640x480 with 2 Axes>"
            ]
          },
          "metadata": {},
          "output_type": "display_data"
        }
      ],
      "source": [
        "sns.heatmap(airline_df.corr())\n",
        "plt.show()"
      ]
    },
    {
      "cell_type": "markdown",
      "metadata": {
        "id": "XAkvJoJzYwWa"
      },
      "source": [
        "#### Data preprocessing"
      ]
    },
    {
      "cell_type": "markdown",
      "metadata": {
        "id": "eGWZDb1C_icE"
      },
      "source": [
        "Only keep airport name with top (threshold) number of flights"
      ]
    },
    {
      "cell_type": "code",
      "execution_count": 13,
      "metadata": {
        "colab": {
          "base_uri": "https://localhost:8080/",
          "height": 424
        },
        "id": "S_fHY7GYnurQ",
        "outputId": "cdbe71b4-ca54-4678-b23b-a740615ac4cc"
      },
      "outputs": [
        {
          "data": {
            "text/html": [
              "<div>\n",
              "<style scoped>\n",
              "    .dataframe tbody tr th:only-of-type {\n",
              "        vertical-align: middle;\n",
              "    }\n",
              "\n",
              "    .dataframe tbody tr th {\n",
              "        vertical-align: top;\n",
              "    }\n",
              "\n",
              "    .dataframe thead th {\n",
              "        text-align: right;\n",
              "    }\n",
              "</style>\n",
              "<table border=\"1\" class=\"dataframe\">\n",
              "  <thead>\n",
              "    <tr style=\"text-align: right;\">\n",
              "      <th></th>\n",
              "      <th>Airline</th>\n",
              "      <th>Flight</th>\n",
              "      <th>AirportFrom</th>\n",
              "      <th>AirportTo</th>\n",
              "      <th>DayOfWeek</th>\n",
              "      <th>Time</th>\n",
              "      <th>Length</th>\n",
              "      <th>Delay</th>\n",
              "    </tr>\n",
              "  </thead>\n",
              "  <tbody>\n",
              "    <tr>\n",
              "      <th>0</th>\n",
              "      <td>CO</td>\n",
              "      <td>269</td>\n",
              "      <td>SFO</td>\n",
              "      <td>IAH</td>\n",
              "      <td>3</td>\n",
              "      <td>15</td>\n",
              "      <td>205</td>\n",
              "      <td>1</td>\n",
              "    </tr>\n",
              "    <tr>\n",
              "      <th>1</th>\n",
              "      <td>US</td>\n",
              "      <td>1558</td>\n",
              "      <td>PHX</td>\n",
              "      <td>CLT</td>\n",
              "      <td>3</td>\n",
              "      <td>15</td>\n",
              "      <td>222</td>\n",
              "      <td>1</td>\n",
              "    </tr>\n",
              "    <tr>\n",
              "      <th>2</th>\n",
              "      <td>AA</td>\n",
              "      <td>2400</td>\n",
              "      <td>LAX</td>\n",
              "      <td>DFW</td>\n",
              "      <td>3</td>\n",
              "      <td>20</td>\n",
              "      <td>165</td>\n",
              "      <td>1</td>\n",
              "    </tr>\n",
              "    <tr>\n",
              "      <th>3</th>\n",
              "      <td>AA</td>\n",
              "      <td>2466</td>\n",
              "      <td>SFO</td>\n",
              "      <td>DFW</td>\n",
              "      <td>3</td>\n",
              "      <td>20</td>\n",
              "      <td>195</td>\n",
              "      <td>1</td>\n",
              "    </tr>\n",
              "    <tr>\n",
              "      <th>4</th>\n",
              "      <td>AS</td>\n",
              "      <td>108</td>\n",
              "      <td>other</td>\n",
              "      <td>SEA</td>\n",
              "      <td>3</td>\n",
              "      <td>30</td>\n",
              "      <td>202</td>\n",
              "      <td>0</td>\n",
              "    </tr>\n",
              "    <tr>\n",
              "      <th>...</th>\n",
              "      <td>...</td>\n",
              "      <td>...</td>\n",
              "      <td>...</td>\n",
              "      <td>...</td>\n",
              "      <td>...</td>\n",
              "      <td>...</td>\n",
              "      <td>...</td>\n",
              "      <td>...</td>\n",
              "    </tr>\n",
              "    <tr>\n",
              "      <th>539378</th>\n",
              "      <td>CO</td>\n",
              "      <td>178</td>\n",
              "      <td>other</td>\n",
              "      <td>other</td>\n",
              "      <td>5</td>\n",
              "      <td>1439</td>\n",
              "      <td>326</td>\n",
              "      <td>0</td>\n",
              "    </tr>\n",
              "    <tr>\n",
              "      <th>539379</th>\n",
              "      <td>FL</td>\n",
              "      <td>398</td>\n",
              "      <td>SEA</td>\n",
              "      <td>ATL</td>\n",
              "      <td>5</td>\n",
              "      <td>1439</td>\n",
              "      <td>305</td>\n",
              "      <td>0</td>\n",
              "    </tr>\n",
              "    <tr>\n",
              "      <th>539380</th>\n",
              "      <td>FL</td>\n",
              "      <td>609</td>\n",
              "      <td>SFO</td>\n",
              "      <td>other</td>\n",
              "      <td>5</td>\n",
              "      <td>1439</td>\n",
              "      <td>255</td>\n",
              "      <td>0</td>\n",
              "    </tr>\n",
              "    <tr>\n",
              "      <th>539381</th>\n",
              "      <td>UA</td>\n",
              "      <td>78</td>\n",
              "      <td>other</td>\n",
              "      <td>SFO</td>\n",
              "      <td>5</td>\n",
              "      <td>1439</td>\n",
              "      <td>313</td>\n",
              "      <td>1</td>\n",
              "    </tr>\n",
              "    <tr>\n",
              "      <th>539382</th>\n",
              "      <td>US</td>\n",
              "      <td>1442</td>\n",
              "      <td>LAX</td>\n",
              "      <td>PHL</td>\n",
              "      <td>5</td>\n",
              "      <td>1439</td>\n",
              "      <td>301</td>\n",
              "      <td>1</td>\n",
              "    </tr>\n",
              "  </tbody>\n",
              "</table>\n",
              "<p>539383 rows × 8 columns</p>\n",
              "</div>"
            ],
            "text/plain": [
              "       Airline  Flight AirportFrom AirportTo  DayOfWeek  Time  Length  Delay\n",
              "0           CO     269         SFO       IAH          3    15     205      1\n",
              "1           US    1558         PHX       CLT          3    15     222      1\n",
              "2           AA    2400         LAX       DFW          3    20     165      1\n",
              "3           AA    2466         SFO       DFW          3    20     195      1\n",
              "4           AS     108       other       SEA          3    30     202      0\n",
              "...        ...     ...         ...       ...        ...   ...     ...    ...\n",
              "539378      CO     178       other     other          5  1439     326      0\n",
              "539379      FL     398         SEA       ATL          5  1439     305      0\n",
              "539380      FL     609         SFO     other          5  1439     255      0\n",
              "539381      UA      78       other       SFO          5  1439     313      1\n",
              "539382      US    1442         LAX       PHL          5  1439     301      1\n",
              "\n",
              "[539383 rows x 8 columns]"
            ]
          },
          "execution_count": 13,
          "metadata": {},
          "output_type": "execute_result"
        }
      ],
      "source": [
        "threshold = 25\n",
        "from_top_30 = airline_df['AirportFrom'].value_counts().head(threshold).index\n",
        "func = lambda x: x if (x in from_top_30) else 'other'\n",
        "airline_df['AirportFrom'] = airline_df['AirportFrom'].apply(func)\n",
        "\n",
        "to_top_30 = airline_df['AirportTo'].value_counts().head(threshold).index\n",
        "func = lambda x: x if (x in to_top_30) else 'other'\n",
        "airline_df['AirportTo'] = airline_df['AirportTo'].apply(func)\n",
        "\n",
        "airline_df"
      ]
    },
    {
      "cell_type": "markdown",
      "metadata": {
        "id": "H2ASbvCDasfJ"
      },
      "source": [
        "One hot encoding the catagorical features"
      ]
    },
    {
      "cell_type": "code",
      "execution_count": 14,
      "metadata": {
        "colab": {
          "base_uri": "https://localhost:8080/",
          "height": 488
        },
        "id": "aotZusjC_2Qq",
        "outputId": "dde4dc2b-6faf-425a-f1b4-f4c9ed35a146"
      },
      "outputs": [
        {
          "data": {
            "text/html": [
              "<div>\n",
              "<style scoped>\n",
              "    .dataframe tbody tr th:only-of-type {\n",
              "        vertical-align: middle;\n",
              "    }\n",
              "\n",
              "    .dataframe tbody tr th {\n",
              "        vertical-align: top;\n",
              "    }\n",
              "\n",
              "    .dataframe thead th {\n",
              "        text-align: right;\n",
              "    }\n",
              "</style>\n",
              "<table border=\"1\" class=\"dataframe\">\n",
              "  <thead>\n",
              "    <tr style=\"text-align: right;\">\n",
              "      <th></th>\n",
              "      <th>Airline_9E</th>\n",
              "      <th>Airline_AA</th>\n",
              "      <th>Airline_AS</th>\n",
              "      <th>Airline_B6</th>\n",
              "      <th>Airline_CO</th>\n",
              "      <th>Airline_DL</th>\n",
              "      <th>Airline_EV</th>\n",
              "      <th>Airline_F9</th>\n",
              "      <th>Airline_FL</th>\n",
              "      <th>Airline_HA</th>\n",
              "      <th>...</th>\n",
              "      <th>DayOfWeek_2</th>\n",
              "      <th>DayOfWeek_3</th>\n",
              "      <th>DayOfWeek_4</th>\n",
              "      <th>DayOfWeek_5</th>\n",
              "      <th>DayOfWeek_6</th>\n",
              "      <th>DayOfWeek_7</th>\n",
              "      <th>Flight</th>\n",
              "      <th>Time</th>\n",
              "      <th>Length</th>\n",
              "      <th>Delay</th>\n",
              "    </tr>\n",
              "  </thead>\n",
              "  <tbody>\n",
              "    <tr>\n",
              "      <th>0</th>\n",
              "      <td>0</td>\n",
              "      <td>0</td>\n",
              "      <td>0</td>\n",
              "      <td>0</td>\n",
              "      <td>1</td>\n",
              "      <td>0</td>\n",
              "      <td>0</td>\n",
              "      <td>0</td>\n",
              "      <td>0</td>\n",
              "      <td>0</td>\n",
              "      <td>...</td>\n",
              "      <td>0</td>\n",
              "      <td>1</td>\n",
              "      <td>0</td>\n",
              "      <td>0</td>\n",
              "      <td>0</td>\n",
              "      <td>0</td>\n",
              "      <td>269</td>\n",
              "      <td>15</td>\n",
              "      <td>205</td>\n",
              "      <td>1</td>\n",
              "    </tr>\n",
              "    <tr>\n",
              "      <th>1</th>\n",
              "      <td>0</td>\n",
              "      <td>0</td>\n",
              "      <td>0</td>\n",
              "      <td>0</td>\n",
              "      <td>0</td>\n",
              "      <td>0</td>\n",
              "      <td>0</td>\n",
              "      <td>0</td>\n",
              "      <td>0</td>\n",
              "      <td>0</td>\n",
              "      <td>...</td>\n",
              "      <td>0</td>\n",
              "      <td>1</td>\n",
              "      <td>0</td>\n",
              "      <td>0</td>\n",
              "      <td>0</td>\n",
              "      <td>0</td>\n",
              "      <td>1558</td>\n",
              "      <td>15</td>\n",
              "      <td>222</td>\n",
              "      <td>1</td>\n",
              "    </tr>\n",
              "    <tr>\n",
              "      <th>2</th>\n",
              "      <td>0</td>\n",
              "      <td>1</td>\n",
              "      <td>0</td>\n",
              "      <td>0</td>\n",
              "      <td>0</td>\n",
              "      <td>0</td>\n",
              "      <td>0</td>\n",
              "      <td>0</td>\n",
              "      <td>0</td>\n",
              "      <td>0</td>\n",
              "      <td>...</td>\n",
              "      <td>0</td>\n",
              "      <td>1</td>\n",
              "      <td>0</td>\n",
              "      <td>0</td>\n",
              "      <td>0</td>\n",
              "      <td>0</td>\n",
              "      <td>2400</td>\n",
              "      <td>20</td>\n",
              "      <td>165</td>\n",
              "      <td>1</td>\n",
              "    </tr>\n",
              "    <tr>\n",
              "      <th>3</th>\n",
              "      <td>0</td>\n",
              "      <td>1</td>\n",
              "      <td>0</td>\n",
              "      <td>0</td>\n",
              "      <td>0</td>\n",
              "      <td>0</td>\n",
              "      <td>0</td>\n",
              "      <td>0</td>\n",
              "      <td>0</td>\n",
              "      <td>0</td>\n",
              "      <td>...</td>\n",
              "      <td>0</td>\n",
              "      <td>1</td>\n",
              "      <td>0</td>\n",
              "      <td>0</td>\n",
              "      <td>0</td>\n",
              "      <td>0</td>\n",
              "      <td>2466</td>\n",
              "      <td>20</td>\n",
              "      <td>195</td>\n",
              "      <td>1</td>\n",
              "    </tr>\n",
              "    <tr>\n",
              "      <th>4</th>\n",
              "      <td>0</td>\n",
              "      <td>0</td>\n",
              "      <td>1</td>\n",
              "      <td>0</td>\n",
              "      <td>0</td>\n",
              "      <td>0</td>\n",
              "      <td>0</td>\n",
              "      <td>0</td>\n",
              "      <td>0</td>\n",
              "      <td>0</td>\n",
              "      <td>...</td>\n",
              "      <td>0</td>\n",
              "      <td>1</td>\n",
              "      <td>0</td>\n",
              "      <td>0</td>\n",
              "      <td>0</td>\n",
              "      <td>0</td>\n",
              "      <td>108</td>\n",
              "      <td>30</td>\n",
              "      <td>202</td>\n",
              "      <td>0</td>\n",
              "    </tr>\n",
              "    <tr>\n",
              "      <th>...</th>\n",
              "      <td>...</td>\n",
              "      <td>...</td>\n",
              "      <td>...</td>\n",
              "      <td>...</td>\n",
              "      <td>...</td>\n",
              "      <td>...</td>\n",
              "      <td>...</td>\n",
              "      <td>...</td>\n",
              "      <td>...</td>\n",
              "      <td>...</td>\n",
              "      <td>...</td>\n",
              "      <td>...</td>\n",
              "      <td>...</td>\n",
              "      <td>...</td>\n",
              "      <td>...</td>\n",
              "      <td>...</td>\n",
              "      <td>...</td>\n",
              "      <td>...</td>\n",
              "      <td>...</td>\n",
              "      <td>...</td>\n",
              "      <td>...</td>\n",
              "    </tr>\n",
              "    <tr>\n",
              "      <th>539378</th>\n",
              "      <td>0</td>\n",
              "      <td>0</td>\n",
              "      <td>0</td>\n",
              "      <td>0</td>\n",
              "      <td>1</td>\n",
              "      <td>0</td>\n",
              "      <td>0</td>\n",
              "      <td>0</td>\n",
              "      <td>0</td>\n",
              "      <td>0</td>\n",
              "      <td>...</td>\n",
              "      <td>0</td>\n",
              "      <td>0</td>\n",
              "      <td>0</td>\n",
              "      <td>1</td>\n",
              "      <td>0</td>\n",
              "      <td>0</td>\n",
              "      <td>178</td>\n",
              "      <td>1439</td>\n",
              "      <td>326</td>\n",
              "      <td>0</td>\n",
              "    </tr>\n",
              "    <tr>\n",
              "      <th>539379</th>\n",
              "      <td>0</td>\n",
              "      <td>0</td>\n",
              "      <td>0</td>\n",
              "      <td>0</td>\n",
              "      <td>0</td>\n",
              "      <td>0</td>\n",
              "      <td>0</td>\n",
              "      <td>0</td>\n",
              "      <td>1</td>\n",
              "      <td>0</td>\n",
              "      <td>...</td>\n",
              "      <td>0</td>\n",
              "      <td>0</td>\n",
              "      <td>0</td>\n",
              "      <td>1</td>\n",
              "      <td>0</td>\n",
              "      <td>0</td>\n",
              "      <td>398</td>\n",
              "      <td>1439</td>\n",
              "      <td>305</td>\n",
              "      <td>0</td>\n",
              "    </tr>\n",
              "    <tr>\n",
              "      <th>539380</th>\n",
              "      <td>0</td>\n",
              "      <td>0</td>\n",
              "      <td>0</td>\n",
              "      <td>0</td>\n",
              "      <td>0</td>\n",
              "      <td>0</td>\n",
              "      <td>0</td>\n",
              "      <td>0</td>\n",
              "      <td>1</td>\n",
              "      <td>0</td>\n",
              "      <td>...</td>\n",
              "      <td>0</td>\n",
              "      <td>0</td>\n",
              "      <td>0</td>\n",
              "      <td>1</td>\n",
              "      <td>0</td>\n",
              "      <td>0</td>\n",
              "      <td>609</td>\n",
              "      <td>1439</td>\n",
              "      <td>255</td>\n",
              "      <td>0</td>\n",
              "    </tr>\n",
              "    <tr>\n",
              "      <th>539381</th>\n",
              "      <td>0</td>\n",
              "      <td>0</td>\n",
              "      <td>0</td>\n",
              "      <td>0</td>\n",
              "      <td>0</td>\n",
              "      <td>0</td>\n",
              "      <td>0</td>\n",
              "      <td>0</td>\n",
              "      <td>0</td>\n",
              "      <td>0</td>\n",
              "      <td>...</td>\n",
              "      <td>0</td>\n",
              "      <td>0</td>\n",
              "      <td>0</td>\n",
              "      <td>1</td>\n",
              "      <td>0</td>\n",
              "      <td>0</td>\n",
              "      <td>78</td>\n",
              "      <td>1439</td>\n",
              "      <td>313</td>\n",
              "      <td>1</td>\n",
              "    </tr>\n",
              "    <tr>\n",
              "      <th>539382</th>\n",
              "      <td>0</td>\n",
              "      <td>0</td>\n",
              "      <td>0</td>\n",
              "      <td>0</td>\n",
              "      <td>0</td>\n",
              "      <td>0</td>\n",
              "      <td>0</td>\n",
              "      <td>0</td>\n",
              "      <td>0</td>\n",
              "      <td>0</td>\n",
              "      <td>...</td>\n",
              "      <td>0</td>\n",
              "      <td>0</td>\n",
              "      <td>0</td>\n",
              "      <td>1</td>\n",
              "      <td>0</td>\n",
              "      <td>0</td>\n",
              "      <td>1442</td>\n",
              "      <td>1439</td>\n",
              "      <td>301</td>\n",
              "      <td>1</td>\n",
              "    </tr>\n",
              "  </tbody>\n",
              "</table>\n",
              "<p>539383 rows × 81 columns</p>\n",
              "</div>"
            ],
            "text/plain": [
              "        Airline_9E  Airline_AA  Airline_AS  Airline_B6  Airline_CO  \\\n",
              "0                0           0           0           0           1   \n",
              "1                0           0           0           0           0   \n",
              "2                0           1           0           0           0   \n",
              "3                0           1           0           0           0   \n",
              "4                0           0           1           0           0   \n",
              "...            ...         ...         ...         ...         ...   \n",
              "539378           0           0           0           0           1   \n",
              "539379           0           0           0           0           0   \n",
              "539380           0           0           0           0           0   \n",
              "539381           0           0           0           0           0   \n",
              "539382           0           0           0           0           0   \n",
              "\n",
              "        Airline_DL  Airline_EV  Airline_F9  Airline_FL  Airline_HA  ...  \\\n",
              "0                0           0           0           0           0  ...   \n",
              "1                0           0           0           0           0  ...   \n",
              "2                0           0           0           0           0  ...   \n",
              "3                0           0           0           0           0  ...   \n",
              "4                0           0           0           0           0  ...   \n",
              "...            ...         ...         ...         ...         ...  ...   \n",
              "539378           0           0           0           0           0  ...   \n",
              "539379           0           0           0           1           0  ...   \n",
              "539380           0           0           0           1           0  ...   \n",
              "539381           0           0           0           0           0  ...   \n",
              "539382           0           0           0           0           0  ...   \n",
              "\n",
              "        DayOfWeek_2  DayOfWeek_3  DayOfWeek_4  DayOfWeek_5  DayOfWeek_6  \\\n",
              "0                 0            1            0            0            0   \n",
              "1                 0            1            0            0            0   \n",
              "2                 0            1            0            0            0   \n",
              "3                 0            1            0            0            0   \n",
              "4                 0            1            0            0            0   \n",
              "...             ...          ...          ...          ...          ...   \n",
              "539378            0            0            0            1            0   \n",
              "539379            0            0            0            1            0   \n",
              "539380            0            0            0            1            0   \n",
              "539381            0            0            0            1            0   \n",
              "539382            0            0            0            1            0   \n",
              "\n",
              "        DayOfWeek_7  Flight  Time  Length  Delay  \n",
              "0                 0     269    15     205      1  \n",
              "1                 0    1558    15     222      1  \n",
              "2                 0    2400    20     165      1  \n",
              "3                 0    2466    20     195      1  \n",
              "4                 0     108    30     202      0  \n",
              "...             ...     ...   ...     ...    ...  \n",
              "539378            0     178  1439     326      0  \n",
              "539379            0     398  1439     305      0  \n",
              "539380            0     609  1439     255      0  \n",
              "539381            0      78  1439     313      1  \n",
              "539382            0    1442  1439     301      1  \n",
              "\n",
              "[539383 rows x 81 columns]"
            ]
          },
          "execution_count": 14,
          "metadata": {},
          "output_type": "execute_result"
        }
      ],
      "source": [
        "airline_df['DayOfWeek'] = airline_df['DayOfWeek'].astype('str')\n",
        "one_hot = pd.get_dummies(airline_df[['Airline', 'AirportFrom', 'AirportTo', 'DayOfWeek']])\n",
        "airline_df = pd.concat([one_hot, airline_df[['Flight', 'Time', 'Length', 'Delay']]], axis=1)\n",
        "airline_df"
      ]
    },
    {
      "cell_type": "markdown",
      "metadata": {
        "id": "Oxa2DM72BmNJ"
      },
      "source": [
        "#### Build Model"
      ]
    },
    {
      "cell_type": "markdown",
      "metadata": {
        "id": "nkINIrhMBnjB"
      },
      "source": [
        "Naive Bayes"
      ]
    },
    {
      "cell_type": "code",
      "execution_count": 15,
      "metadata": {
        "colab": {
          "base_uri": "https://localhost:8080/"
        },
        "id": "9NvltywNIWtL",
        "outputId": "e51c2f80-1478-40a8-ac77-211726a3b13a"
      },
      "outputs": [
        {
          "name": "stdout",
          "output_type": "stream",
          "text": [
            "Fold 1, F1 score: 0.574\n",
            "              precision    recall  f1-score   support\n",
            "\n",
            "           0       0.66      0.62      0.64     74976\n",
            "           1       0.55      0.60      0.57     59870\n",
            "\n",
            "    accuracy                           0.61    134846\n",
            "   macro avg       0.60      0.61      0.60    134846\n",
            "weighted avg       0.61      0.61      0.61    134846\n",
            "\n",
            "Fold 2, F1 score: 0.570\n",
            "              precision    recall  f1-score   support\n",
            "\n",
            "           0       0.65      0.62      0.63     74894\n",
            "           1       0.55      0.59      0.57     59952\n",
            "\n",
            "    accuracy                           0.60    134846\n",
            "   macro avg       0.60      0.60      0.60    134846\n",
            "weighted avg       0.61      0.60      0.61    134846\n",
            "\n",
            "Fold 3, F1 score: 0.574\n",
            "              precision    recall  f1-score   support\n",
            "\n",
            "           0       0.65      0.62      0.63     74571\n",
            "           1       0.55      0.59      0.57     60275\n",
            "\n",
            "    accuracy                           0.61    134846\n",
            "   macro avg       0.60      0.60      0.60    134846\n",
            "weighted avg       0.61      0.61      0.61    134846\n",
            "\n",
            "Fold 4, F1 score: 0.571\n",
            "              precision    recall  f1-score   support\n",
            "\n",
            "           0       0.65      0.61      0.63     74851\n",
            "           1       0.55      0.59      0.57     59995\n",
            "\n",
            "    accuracy                           0.60    134846\n",
            "   macro avg       0.60      0.60      0.60    134846\n",
            "weighted avg       0.61      0.60      0.60    134846\n",
            "\n",
            "Fold 5, F1 score: 0.571\n",
            "              precision    recall  f1-score   support\n",
            "\n",
            "           0       0.65      0.62      0.63     74696\n",
            "           1       0.55      0.59      0.57     60150\n",
            "\n",
            "    accuracy                           0.61    134846\n",
            "   macro avg       0.60      0.60      0.60    134846\n",
            "weighted avg       0.61      0.61      0.61    134846\n",
            "\n"
          ]
        }
      ],
      "source": [
        "from sklearn.naive_bayes import GaussianNB\n",
        "from sklearn.model_selection import ShuffleSplit\n",
        "from sklearn.metrics import f1_score, classification_report\n",
        "\n",
        "#clf = GaussianNB()\n",
        "X = airline_df.iloc[:, :-1].to_numpy()\n",
        "y = airline_df.iloc[:, -1:].to_numpy().squeeze()\n",
        "ss = ShuffleSplit(n_splits=5, test_size=0.25, random_state=0)\n",
        "for idx, (train_index, test_index) in enumerate(ss.split(X)):\n",
        "    clf = GaussianNB()\n",
        "\n",
        "    clf.fit(X[train_index], y[train_index])\n",
        "    y_pred = clf.predict(X[test_index])\n",
        "    f1 = f1_score(y[test_index], y_pred)\n",
        "    print('Fold {}, F1 score: {:.3f}'.format(idx+1, f1))\n",
        "    print(classification_report(y[test_index], y_pred))"
      ]
    },
    {
      "cell_type": "markdown",
      "metadata": {
        "id": "Zss9gKy92zHH"
      },
      "source": [
        "Random Forest"
      ]
    },
    {
      "cell_type": "code",
      "execution_count": 16,
      "metadata": {
        "colab": {
          "base_uri": "https://localhost:8080/"
        },
        "id": "ebLLrtixL1FI",
        "outputId": "56f58332-d4a9-4b48-a307-bc935190d74d"
      },
      "outputs": [
        {
          "name": "stdout",
          "output_type": "stream",
          "text": [
            "Fold 1, F1 score: 0.562\n",
            "              precision    recall  f1-score   support\n",
            "\n",
            "           0       0.65      0.67      0.66     74976\n",
            "           1       0.57      0.55      0.56     59870\n",
            "\n",
            "    accuracy                           0.62    134846\n",
            "   macro avg       0.61      0.61      0.61    134846\n",
            "weighted avg       0.62      0.62      0.62    134846\n",
            "\n",
            "Fold 2, F1 score: 0.560\n",
            "              precision    recall  f1-score   support\n",
            "\n",
            "           0       0.65      0.67      0.66     74894\n",
            "           1       0.57      0.55      0.56     59952\n",
            "\n",
            "    accuracy                           0.62    134846\n",
            "   macro avg       0.61      0.61      0.61    134846\n",
            "weighted avg       0.62      0.62      0.62    134846\n",
            "\n",
            "Fold 3, F1 score: 0.560\n",
            "              precision    recall  f1-score   support\n",
            "\n",
            "           0       0.65      0.67      0.66     74571\n",
            "           1       0.57      0.55      0.56     60275\n",
            "\n",
            "    accuracy                           0.62    134846\n",
            "   macro avg       0.61      0.61      0.61    134846\n",
            "weighted avg       0.61      0.62      0.62    134846\n",
            "\n",
            "Fold 4, F1 score: 0.560\n",
            "              precision    recall  f1-score   support\n",
            "\n",
            "           0       0.65      0.67      0.66     74851\n",
            "           1       0.57      0.55      0.56     59995\n",
            "\n",
            "    accuracy                           0.62    134846\n",
            "   macro avg       0.61      0.61      0.61    134846\n",
            "weighted avg       0.62      0.62      0.62    134846\n",
            "\n",
            "Fold 5, F1 score: 0.560\n",
            "              precision    recall  f1-score   support\n",
            "\n",
            "           0       0.65      0.67      0.66     74696\n",
            "           1       0.57      0.55      0.56     60150\n",
            "\n",
            "    accuracy                           0.62    134846\n",
            "   macro avg       0.61      0.61      0.61    134846\n",
            "weighted avg       0.62      0.62      0.62    134846\n",
            "\n"
          ]
        }
      ],
      "source": [
        "from sklearn.ensemble import RandomForestClassifier\n",
        "from sklearn.model_selection import RandomizedSearchCV\n",
        "\n",
        "for idx, (train_index, test_index) in enumerate(ss.split(X)):\n",
        "    clf = RandomForestClassifier(n_estimators=100, criterion='gini',\n",
        "                                 max_depth=50)\n",
        "\n",
        "    clf.fit(X[train_index], y[train_index])\n",
        "    y_pred = clf.predict(X[test_index])\n",
        "    f1 = f1_score(y[test_index], y_pred)\n",
        "    print('Fold {}, F1 score: {:.3f}'.format(idx+1, f1))\n",
        "    print(classification_report(y[test_index], y_pred))"
      ]
    },
    {
      "cell_type": "markdown",
      "metadata": {
        "id": "C7EV0MfT9rUu"
      },
      "source": [
        "Deep learning (fully connected network)"
      ]
    },
    {
      "cell_type": "markdown",
      "metadata": {
        "id": "LeSxLA81_nJ9"
      },
      "source": [
        "Define Model"
      ]
    },
    {
      "cell_type": "code",
      "execution_count": 17,
      "metadata": {
        "id": "byJNpzEs9s-c"
      },
      "outputs": [],
      "source": [
        "class Model(nn.Module):\n",
        "    def __init__(self, in_dim, hidden_dim, out_dim=1):\n",
        "\n",
        "        super(Model, self).__init__()\n",
        "\n",
        "        self.fc1 = nn.Linear(in_dim, hidden_dim)\n",
        "        self.dp = nn.Dropout(p=0.2)\n",
        "        self.fc2 = nn.Linear(hidden_dim, out_dim)\n",
        "\n",
        "    def forward(self, x):\n",
        "\n",
        "        x = self.fc1(x)\n",
        "\n",
        "        x = F.relu(x)\n",
        "\n",
        "        x = self.fc2(x)\n",
        "\n",
        "        return x"
      ]
    },
    {
      "cell_type": "markdown",
      "metadata": {
        "id": "15lzzQyZ_pDZ"
      },
      "source": [
        "Dataloader"
      ]
    },
    {
      "cell_type": "code",
      "execution_count": 18,
      "metadata": {
        "id": "jGDPrji1_rQx"
      },
      "outputs": [],
      "source": [
        "from torch.utils.data import Dataset\n",
        "\n",
        "class Airline_Dataset(Dataset):\n",
        "    def __init__(self, X, y):\n",
        "        \n",
        "        super(Airline_Dataset, self).__init__()\n",
        "        \n",
        "        self.X = torch.tensor(X, dtype=torch.float)\n",
        "        self.y = torch.tensor(y, dtype=torch.float)\n",
        "\n",
        "        self.y = self.y.unsqueeze(1)\n",
        "\n",
        "        #print(self.X.shape, self.y.shape)\n",
        "\n",
        "    def __len__(self):\n",
        "        return len(self.X)\n",
        "\n",
        "    def __getitem__(self, idx):\n",
        "        return self.X[idx], self.y[idx]"
      ]
    },
    {
      "cell_type": "code",
      "execution_count": 19,
      "metadata": {
        "colab": {
          "base_uri": "https://localhost:8080/"
        },
        "id": "BSR0L1cXAZsr",
        "outputId": "078589f9-7a42-47e5-ccc5-a1ab125f7c62"
      },
      "outputs": [
        {
          "name": "stdout",
          "output_type": "stream",
          "text": [
            "using device: cuda:0\n"
          ]
        }
      ],
      "source": [
        "device = f'cuda:0' if torch.cuda.is_available() else 'cpu'\n",
        "print(f\"using device: {device}\")"
      ]
    },
    {
      "cell_type": "code",
      "execution_count": 20,
      "metadata": {
        "colab": {
          "base_uri": "https://localhost:8080/"
        },
        "id": "fI-O_luVAb4Q",
        "outputId": "c2304ae2-e6fc-4529-8ba3-bd8a9d630a6e"
      },
      "outputs": [
        {
          "data": {
            "text/plain": [
              "Model(\n",
              "  (fc1): Linear(in_features=80, out_features=512, bias=True)\n",
              "  (dp): Dropout(p=0.2, inplace=False)\n",
              "  (fc2): Linear(in_features=512, out_features=1, bias=True)\n",
              ")"
            ]
          },
          "execution_count": 20,
          "metadata": {},
          "output_type": "execute_result"
        }
      ],
      "source": [
        "from sklearn.preprocessing import StandardScaler\n",
        "\n",
        "X = airline_df.iloc[:, :-1].to_numpy()\n",
        "y = airline_df.iloc[:, -1:].to_numpy().squeeze()\n",
        "\n",
        "scaler = StandardScaler()\n",
        "X = scaler.fit_transform(X)\n",
        "\n",
        "in_dim = X.shape[1]\n",
        "hidden_dim = 512\n",
        "learning_rate = 0.01\n",
        "model = Model(in_dim, hidden_dim, 1)\n",
        "epochs = 100\n",
        "optimizer = optim.Adam(model.parameters(), lr=learning_rate)\n",
        "\n",
        "model = model.to(device)\n",
        "model.train()"
      ]
    },
    {
      "cell_type": "markdown",
      "metadata": {
        "id": "hhfxaYk6vC5k"
      },
      "source": [
        "Iterate through the dataloader"
      ]
    },
    {
      "cell_type": "code",
      "execution_count": 21,
      "metadata": {
        "colab": {
          "base_uri": "https://localhost:8080/"
        },
        "id": "97Whp2TcrPNo",
        "outputId": "fde351ad-1d4d-4e71-da54-e846f72e69b0"
      },
      "outputs": [
        {
          "name": "stdout",
          "output_type": "stream",
          "text": [
            "Epoch: 10, Loss: 0.62183\n",
            "Epoch: 20, Loss: 0.62060\n",
            "Epoch: 30, Loss: 0.62089\n",
            "Epoch: 40, Loss: 0.62050\n",
            "Epoch: 50, Loss: 0.62030\n",
            "Epoch: 60, Loss: 0.62027\n",
            "Epoch: 70, Loss: 0.62020\n",
            "Epoch: 80, Loss: 0.62012\n",
            "Epoch: 90, Loss: 0.62015\n",
            "Epoch: 100, Loss: 0.62011\n"
          ]
        }
      ],
      "source": [
        "for idx, (train_index, test_index) in enumerate(ss.split(X)):\n",
        "    X_train, y_train = X[train_index], y[train_index]\n",
        "    X_test, y_test = X[test_index], y[test_index]\n",
        "    break\n",
        "\n",
        "train_loader = du.DataLoader(\n",
        "        dataset=Airline_Dataset(X_train, y_train), \n",
        "        batch_size=100, shuffle=True)\n",
        "\n",
        "for epoch in range(1, epochs + 1):\n",
        "    sum_loss = 0.\n",
        "    for batch_idx, (X, y) in enumerate(train_loader):\n",
        "        X, y = X.to(device), y.to(device)\n",
        "\n",
        "        optimizer.zero_grad()\n",
        "\n",
        "        output = model(X)\n",
        "\n",
        "        loss = F.binary_cross_entropy_with_logits(output, y)\n",
        "\n",
        "        sum_loss += loss.item()\n",
        "\n",
        "        loss.backward()\n",
        "        optimizer.step()\n",
        "\n",
        "    sum_loss /= len(train_loader)\n",
        "    if epoch % 10 == 0:\n",
        "        print(f'Epoch: {epoch}, Loss: {sum_loss:.5f}')"
      ]
    },
    {
      "cell_type": "code",
      "execution_count": 22,
      "metadata": {
        "colab": {
          "base_uri": "https://localhost:8080/"
        },
        "id": "S_HW1MoUwrFP",
        "outputId": "027366b2-225d-40f1-96a3-8c5a2fde12d3"
      },
      "outputs": [
        {
          "name": "stdout",
          "output_type": "stream",
          "text": [
            "Accuracy: 0.6544\n"
          ]
        }
      ],
      "source": [
        "model.eval()\n",
        "\n",
        "test_loader = du.DataLoader(\n",
        "        dataset=Airline_Dataset(X_test, y_test), \n",
        "        batch_size=100, shuffle=True)\n",
        "\n",
        "valid_loss = 0\n",
        "correct = 0\n",
        "with torch.no_grad():\n",
        "    for batch_idx, (X, y) in enumerate(test_loader):\n",
        "        X, y = X.to(device), y.to(device)\n",
        "\n",
        "        output = model(X)\n",
        "\n",
        "        loss = F.binary_cross_entropy_with_logits(output, y)\n",
        "\n",
        "        valid_loss += loss.item()\n",
        "\n",
        "        pred = torch.sigmoid(output)\n",
        "        pred[pred < float(0.5)] = 0\n",
        "        pred[pred != 0] = 1\n",
        "        correct += torch.sum((pred == y))\n",
        "\n",
        "print('Accuracy: {:.4f}'.format(correct/len(X_test)))"
      ]
    }
  ],
  "metadata": {
    "accelerator": "GPU",
    "colab": {
      "authorship_tag": "ABX9TyOGBdBGfhS0Ku9KkcTSyiDr",
      "collapsed_sections": [],
      "include_colab_link": true,
      "machine_shape": "hm",
      "mount_file_id": "1mlKs6qKRUHb3AVp9EHX-5pJ5_AkanSku",
      "name": "Airline_delay_prediction.ipynb",
      "provenance": []
    },
    "gpuClass": "standard",
    "kernelspec": {
      "display_name": "Python 3",
      "name": "python3"
    },
    "language_info": {
      "codemirror_mode": {
        "name": "ipython",
        "version": 3
      },
      "file_extension": ".py",
      "mimetype": "text/x-python",
      "name": "python",
      "nbconvert_exporter": "python",
      "pygments_lexer": "ipython3",
      "version": "3.10.9"
    }
  },
  "nbformat": 4,
  "nbformat_minor": 0
}
